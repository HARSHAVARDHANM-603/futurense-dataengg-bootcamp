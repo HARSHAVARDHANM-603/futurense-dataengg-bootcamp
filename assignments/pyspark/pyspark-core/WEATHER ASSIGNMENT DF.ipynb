{
 "cells": [
  {
   "cell_type": "code",
   "execution_count": 100,
   "id": "48adca64",
   "metadata": {},
   "outputs": [],
   "source": [
    "from pyspark.sql import SparkSession\n",
    "from pyspark.sql.functions import *\n",
    "from pyspark.sql import *"
   ]
  },
  {
   "cell_type": "code",
   "execution_count": 101,
   "id": "e134970c",
   "metadata": {},
   "outputs": [],
   "source": [
    "spark = SparkSession.builder.appName('df-weather').getOrCreate()"
   ]
  },
  {
   "cell_type": "code",
   "execution_count": 102,
   "id": "ba64e158",
   "metadata": {},
   "outputs": [],
   "source": [
    "schema = ['WBANNO'\n",
    ", 'LST_DATE'\n",
    ",'CRX_VN'\n",
    ",'LONGITUDE'\n",
    ",'LATITUDE'\n",
    ",'T_DAILY_MAX'\n",
    ",'T_DAILY_MIN'\n",
    ",'T_DAILY_MEAN'\n",
    ",'T_DAILY_AVG'\n",
    ",'P_DAILY_CALC'\n",
    ",'SOLARAD_DAILY'\n",
    ",'SUR_TEMP_DAILY_TYPE'\n",
    ",'SUR_TEMP_DAILY_MAX'\n",
    ",'SUR_TEMP_DAILY_MIN'\n",
    ",'SUR_TEMP_DAILY_AVG'\n",
    ",'RH_DAILY_MAX'\n",
    ",'RH_DAILY_MIN'\n",
    ",'RH_DAILY_AVG'\n",
    ",'SOIL_MOISTURE_5_DAILY'\n",
    ",'SOIL_MOISTURE_10_DAILY'\n",
    ",'SOIL_MOISTURE_20_DAILY'\n",
    ",'SOIL_MOISTURE_50_DAILY'\n",
    ",'SOIL_MOISTURE_100_DAILY'\n",
    ",'SOIL_TEMP_5_DAILY'\n",
    ",'SOIL_TEMP_10_DAILY'\n",
    ",'SOIL_TEMP_20_DAILY'\n",
    ",'SOIL_TEMP_50_DAILY'\n",
    ",'SOIL_TEMP_100_DAILY']"
   ]
  },
  {
   "cell_type": "code",
   "execution_count": 103,
   "id": "0f543547",
   "metadata": {},
   "outputs": [],
   "source": [
    "df = spark.read.csv(path = r\"C:\\Users\\miles.MILE-BL-4492-LA\\Downloads\\modify1_weather.txt\", sep = ',', inferSchema = True)"
   ]
  },
  {
   "cell_type": "code",
   "execution_count": 104,
   "id": "3ebe17a4",
   "metadata": {},
   "outputs": [],
   "source": [
    "df = df.toDF(*schema)"
   ]
  },
  {
   "cell_type": "code",
   "execution_count": 105,
   "id": "cb38a8b1",
   "metadata": {},
   "outputs": [
    {
     "name": "stdout",
     "output_type": "stream",
     "text": [
      "+------+----------+\n",
      "|WBANNO|  LST_DATE|\n",
      "+------+----------+\n",
      "| 23907|2015-01-01|\n",
      "| 23907|2015-01-02|\n",
      "| 23907|2015-01-03|\n",
      "| 23907|2015-01-04|\n",
      "| 23907|2015-01-05|\n",
      "| 23907|2015-01-06|\n",
      "| 23907|2015-01-07|\n",
      "| 23907|2015-01-08|\n",
      "| 23907|2015-01-09|\n",
      "| 23907|2015-01-10|\n",
      "| 23907|2015-01-11|\n",
      "| 23907|2015-01-12|\n",
      "| 23907|2015-01-13|\n",
      "| 23907|2015-01-14|\n",
      "| 23907|2015-01-15|\n",
      "| 23907|2015-01-16|\n",
      "| 23907|2015-01-17|\n",
      "| 23907|2015-01-18|\n",
      "| 23907|2015-01-19|\n",
      "| 23907|2015-01-20|\n",
      "+------+----------+\n",
      "only showing top 20 rows\n",
      "\n"
     ]
    }
   ],
   "source": [
    "df.select('WBANNO', 'LST_DATE').show()"
   ]
  },
  {
   "cell_type": "code",
   "execution_count": 106,
   "id": "1c608030",
   "metadata": {},
   "outputs": [
    {
     "name": "stdout",
     "output_type": "stream",
     "text": [
      "root\n",
      " |-- WBANNO: integer (nullable = true)\n",
      " |-- LST_DATE: string (nullable = true)\n",
      " |-- CRX_VN: double (nullable = true)\n",
      " |-- LONGITUDE: double (nullable = true)\n",
      " |-- LATITUDE: double (nullable = true)\n",
      " |-- T_DAILY_MAX: double (nullable = true)\n",
      " |-- T_DAILY_MIN: double (nullable = true)\n",
      " |-- T_DAILY_MEAN: double (nullable = true)\n",
      " |-- T_DAILY_AVG: double (nullable = true)\n",
      " |-- P_DAILY_CALC: double (nullable = true)\n",
      " |-- SOLARAD_DAILY: double (nullable = true)\n",
      " |-- SUR_TEMP_DAILY_TYPE: string (nullable = true)\n",
      " |-- SUR_TEMP_DAILY_MAX: double (nullable = true)\n",
      " |-- SUR_TEMP_DAILY_MIN: double (nullable = true)\n",
      " |-- SUR_TEMP_DAILY_AVG: double (nullable = true)\n",
      " |-- RH_DAILY_MAX: double (nullable = true)\n",
      " |-- RH_DAILY_MIN: double (nullable = true)\n",
      " |-- RH_DAILY_AVG: double (nullable = true)\n",
      " |-- SOIL_MOISTURE_5_DAILY: double (nullable = true)\n",
      " |-- SOIL_MOISTURE_10_DAILY: double (nullable = true)\n",
      " |-- SOIL_MOISTURE_20_DAILY: double (nullable = true)\n",
      " |-- SOIL_MOISTURE_50_DAILY: double (nullable = true)\n",
      " |-- SOIL_MOISTURE_100_DAILY: double (nullable = true)\n",
      " |-- SOIL_TEMP_5_DAILY: double (nullable = true)\n",
      " |-- SOIL_TEMP_10_DAILY: double (nullable = true)\n",
      " |-- SOIL_TEMP_20_DAILY: double (nullable = true)\n",
      " |-- SOIL_TEMP_50_DAILY: double (nullable = true)\n",
      " |-- SOIL_TEMP_100_DAILY: double (nullable = true)\n",
      "\n"
     ]
    }
   ],
   "source": [
    "df.printSchema()"
   ]
  },
  {
   "cell_type": "code",
   "execution_count": 107,
   "id": "2725951f",
   "metadata": {},
   "outputs": [
    {
     "name": "stdout",
     "output_type": "stream",
     "text": [
      "+----------------+\n",
      "|max(T_DAILY_MAX)|\n",
      "+----------------+\n",
      "|            36.0|\n",
      "+----------------+\n",
      "\n"
     ]
    }
   ],
   "source": [
    "#1\n",
    "df.select(max(df.T_DAILY_MAX)).show()"
   ]
  },
  {
   "cell_type": "code",
   "execution_count": 108,
   "id": "eeb26226",
   "metadata": {},
   "outputs": [
    {
     "name": "stdout",
     "output_type": "stream",
     "text": [
      "+----------------+\n",
      "|min(T_DAILY_MIN)|\n",
      "+----------------+\n",
      "|            -7.9|\n",
      "+----------------+\n",
      "\n"
     ]
    }
   ],
   "source": [
    "df.select(min(df.T_DAILY_MIN)).show()"
   ]
  },
  {
   "cell_type": "code",
   "execution_count": 109,
   "id": "3d332f13",
   "metadata": {},
   "outputs": [
    {
     "name": "stdout",
     "output_type": "stream",
     "text": [
      "+---------------+----------------+\n",
      "|month(LST_DATE)|max(T_DAILY_MAX)|\n",
      "+---------------+----------------+\n",
      "|           null|            13.7|\n",
      "|              1|            26.5|\n",
      "|              6|            33.6|\n",
      "|              3|            29.1|\n",
      "|              5|            31.1|\n",
      "|              4|            30.8|\n",
      "|              7|            36.0|\n",
      "|              2|            26.6|\n",
      "+---------------+----------------+\n",
      "\n"
     ]
    }
   ],
   "source": [
    "#2\n",
    "df.groupBy(month(\"LST_DATE\")).max(\"T_DAILY_MAX\").show()"
   ]
  },
  {
   "cell_type": "code",
   "execution_count": 110,
   "id": "15ef8cf6",
   "metadata": {},
   "outputs": [
    {
     "name": "stdout",
     "output_type": "stream",
     "text": [
      "+---------------+----------------+\n",
      "|month(LST_DATE)|min(T_DAILY_MIN)|\n",
      "+---------------+----------------+\n",
      "|           null|             4.4|\n",
      "|              1|            -7.9|\n",
      "|              6|             0.0|\n",
      "|              3|            -3.2|\n",
      "|              5|            14.3|\n",
      "|              4|             8.0|\n",
      "|              7|            19.8|\n",
      "|              2|            -3.5|\n",
      "+---------------+----------------+\n",
      "\n"
     ]
    }
   ],
   "source": [
    "df.groupBy(month(\"LST_DATE\")).min(\"T_DAILY_MIN\").show()"
   ]
  },
  {
   "cell_type": "code",
   "execution_count": null,
   "id": "4e824ddb",
   "metadata": {},
   "outputs": [],
   "source": []
  }
 ],
 "metadata": {
  "kernelspec": {
   "display_name": "Python 3 (ipykernel)",
   "language": "python",
   "name": "python3"
  },
  "language_info": {
   "codemirror_mode": {
    "name": "ipython",
    "version": 3
   },
   "file_extension": ".py",
   "mimetype": "text/x-python",
   "name": "python",
   "nbconvert_exporter": "python",
   "pygments_lexer": "ipython3",
   "version": "3.10.9"
  }
 },
 "nbformat": 4,
 "nbformat_minor": 5
}
