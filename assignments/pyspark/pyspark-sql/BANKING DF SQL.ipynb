{
 "cells": [
  {
   "cell_type": "code",
   "execution_count": 1,
   "id": "7e9b3d04",
   "metadata": {},
   "outputs": [],
   "source": [
    "import findspark\n",
    "findspark.init()"
   ]
  },
  {
   "cell_type": "code",
   "execution_count": 2,
   "id": "226b293b",
   "metadata": {},
   "outputs": [],
   "source": [
    "from pyspark.sql import SparkSession\n",
    "from pyspark.sql.functions import *\n",
    "from pyspark.sql import *"
   ]
  },
  {
   "cell_type": "code",
   "execution_count": 4,
   "id": "d30c3f9d",
   "metadata": {},
   "outputs": [],
   "source": [
    "spark = SparkSession.builder.appName('df-sql-banking').getOrCreate()"
   ]
  },
  {
   "cell_type": "code",
   "execution_count": 5,
   "id": "d909be50",
   "metadata": {},
   "outputs": [],
   "source": [
    "df = spark.read.csv(path = r\"C:\\Users\\miles.MILE-BL-4492-LA\\Downloads\\bankmarketdata.csv\", header=True, sep = \";\", escape = \",\", inferSchema = True )"
   ]
  },
  {
   "cell_type": "code",
   "execution_count": 6,
   "id": "06cd0884",
   "metadata": {},
   "outputs": [],
   "source": [
    "df.createOrReplaceTempView(\"banking\")"
   ]
  },
  {
   "cell_type": "code",
   "execution_count": 12,
   "id": "3c9ecca5",
   "metadata": {},
   "outputs": [
    {
     "name": "stdout",
     "output_type": "stream",
     "text": [
      "+---+---+\n",
      "|age|  y|\n",
      "+---+---+\n",
      "| 58| no|\n",
      "| 44| no|\n",
      "| 33| no|\n",
      "| 47| no|\n",
      "| 33| no|\n",
      "| 35| no|\n",
      "| 28| no|\n",
      "| 42| no|\n",
      "| 58| no|\n",
      "| 43| no|\n",
      "| 41| no|\n",
      "| 29| no|\n",
      "| 53| no|\n",
      "| 58| no|\n",
      "| 57| no|\n",
      "| 51| no|\n",
      "| 45| no|\n",
      "| 57| no|\n",
      "| 60| no|\n",
      "| 33| no|\n",
      "+---+---+\n",
      "only showing top 20 rows\n",
      "\n"
     ]
    }
   ],
   "source": [
    "spark.sql(\"SELECT age, y FROM banking\").show()"
   ]
  },
  {
   "cell_type": "code",
   "execution_count": 41,
   "id": "4f6aae71",
   "metadata": {},
   "outputs": [
    {
     "name": "stdout",
     "output_type": "stream",
     "text": [
      "+------------------+\n",
      "|      success_rate|\n",
      "+------------------+\n",
      "|11.698480458295547|\n",
      "+------------------+\n",
      "\n"
     ]
    }
   ],
   "source": [
    "#1\n",
    "success_count = spark.sql(\"SELECT SUM(IF(y == 'yes', 1, 0))/count(*)*100 as success_rate FROM banking\")\n",
    "success_count.show()"
   ]
  },
  {
   "cell_type": "code",
   "execution_count": 42,
   "id": "f32a19d4",
   "metadata": {},
   "outputs": [
    {
     "name": "stdout",
     "output_type": "stream",
     "text": [
      "+-----------------+\n",
      "|     failure_rate|\n",
      "+-----------------+\n",
      "|88.30151954170445|\n",
      "+-----------------+\n",
      "\n"
     ]
    }
   ],
   "source": [
    "#2\n",
    "failure_count = spark.sql(\"SELECT SUM(IF(y == 'no', 1, 0))/count(*)*100 as failure_rate FROM banking\")\n",
    "failure_count.show()"
   ]
  },
  {
   "cell_type": "code",
   "execution_count": 45,
   "id": "22404014",
   "metadata": {},
   "outputs": [
    {
     "name": "stdout",
     "output_type": "stream",
     "text": [
      "+--------+\n",
      "|max(age)|\n",
      "+--------+\n",
      "|      95|\n",
      "+--------+\n",
      "\n"
     ]
    }
   ],
   "source": [
    "#3\n",
    "spark.sql(\"SELECT max(age) FROM banking\").show()"
   ]
  },
  {
   "cell_type": "code",
   "execution_count": 46,
   "id": "0a94a53d",
   "metadata": {},
   "outputs": [
    {
     "name": "stdout",
     "output_type": "stream",
     "text": [
      "+--------+\n",
      "|min(age)|\n",
      "+--------+\n",
      "|      18|\n",
      "+--------+\n",
      "\n"
     ]
    }
   ],
   "source": [
    "spark.sql(\"SELECT min(age) FROM banking\").show()"
   ]
  },
  {
   "cell_type": "code",
   "execution_count": 47,
   "id": "44e667bd",
   "metadata": {},
   "outputs": [
    {
     "name": "stdout",
     "output_type": "stream",
     "text": [
      "+-----------------+\n",
      "|         avg(age)|\n",
      "+-----------------+\n",
      "|40.93621021432837|\n",
      "+-----------------+\n",
      "\n"
     ]
    }
   ],
   "source": [
    "spark.sql(\"SELECT avg(age) FROM banking\").show()"
   ]
  },
  {
   "cell_type": "code",
   "execution_count": 48,
   "id": "aae9f61f",
   "metadata": {},
   "outputs": [
    {
     "name": "stdout",
     "output_type": "stream",
     "text": [
      "+------------------+\n",
      "|      avg(balance)|\n",
      "+------------------+\n",
      "|1362.2720576850766|\n",
      "+------------------+\n",
      "\n"
     ]
    }
   ],
   "source": [
    "#4\n",
    "spark.sql(\"SELECT avg(balance) FROM banking\").show()"
   ]
  },
  {
   "cell_type": "code",
   "execution_count": 50,
   "id": "204c1839",
   "metadata": {},
   "outputs": [
    {
     "name": "stdout",
     "output_type": "stream",
     "text": [
      "+------+\n",
      "|MEDIAN|\n",
      "+------+\n",
      "| 448.0|\n",
      "+------+\n",
      "\n"
     ]
    }
   ],
   "source": [
    "spark.sql(\"SELECT PERCENTILE(CAST(BALANCE AS BIGINT),0.5) as MEDIAN FROM banking\").show()"
   ]
  },
  {
   "cell_type": "code",
   "execution_count": 54,
   "id": "596ae238",
   "metadata": {},
   "outputs": [
    {
     "name": "stdout",
     "output_type": "stream",
     "text": [
      "+---+--------+\n",
      "|age|count(1)|\n",
      "+---+--------+\n",
      "| 18|       7|\n",
      "| 19|      11|\n",
      "| 20|      15|\n",
      "| 21|      22|\n",
      "| 22|      40|\n",
      "| 23|      44|\n",
      "| 24|      68|\n",
      "| 25|     113|\n",
      "| 26|     134|\n",
      "| 27|     141|\n",
      "| 28|     162|\n",
      "| 29|     171|\n",
      "| 30|     217|\n",
      "| 31|     206|\n",
      "| 32|     221|\n",
      "| 33|     210|\n",
      "| 34|     198|\n",
      "| 35|     209|\n",
      "| 36|     195|\n",
      "| 37|     170|\n",
      "+---+--------+\n",
      "only showing top 20 rows\n",
      "\n"
     ]
    }
   ],
   "source": [
    "#5\n",
    "spark.sql(\"SELECT age, count(*) FROM banking where y = 'yes' group by age order by 1\").show()"
   ]
  },
  {
   "cell_type": "code",
   "execution_count": 55,
   "id": "1a244ed3",
   "metadata": {},
   "outputs": [
    {
     "name": "stdout",
     "output_type": "stream",
     "text": [
      "+--------+--------+\n",
      "| marital|count(1)|\n",
      "+--------+--------+\n",
      "|divorced|     622|\n",
      "| married|    2755|\n",
      "|  single|    1912|\n",
      "+--------+--------+\n",
      "\n"
     ]
    }
   ],
   "source": [
    "#6\n",
    "spark.sql(\"SELECT marital, count(*) FROM banking where y = 'yes' group by marital order by 1\").show()"
   ]
  },
  {
   "cell_type": "code",
   "execution_count": 57,
   "id": "05d6dbd9",
   "metadata": {},
   "outputs": [
    {
     "name": "stdout",
     "output_type": "stream",
     "text": [
      "+---+--------+--------+\n",
      "|age| marital|count(1)|\n",
      "+---+--------+--------+\n",
      "| 18|  single|       7|\n",
      "| 19|  single|      11|\n",
      "| 20| married|       1|\n",
      "| 20|  single|      14|\n",
      "| 21| married|       1|\n",
      "| 21|  single|      21|\n",
      "| 22|  single|      40|\n",
      "| 23| married|       2|\n",
      "| 23|  single|      42|\n",
      "| 24| married|      10|\n",
      "| 24|  single|      58|\n",
      "| 25| married|      14|\n",
      "| 25|  single|      99|\n",
      "| 26| married|      13|\n",
      "| 26|  single|     121|\n",
      "| 27|divorced|       2|\n",
      "| 27| married|      29|\n",
      "| 27|  single|     110|\n",
      "| 28|divorced|       4|\n",
      "| 28| married|      20|\n",
      "+---+--------+--------+\n",
      "only showing top 20 rows\n",
      "\n"
     ]
    }
   ],
   "source": [
    "#7\n",
    "spark.sql(\"SELECT age, marital, count(*) FROM banking where y = 'yes' group by age, marital order by 1, 2\").show()"
   ]
  },
  {
   "cell_type": "code",
   "execution_count": null,
   "id": "bf720546",
   "metadata": {},
   "outputs": [],
   "source": []
  }
 ],
 "metadata": {
  "kernelspec": {
   "display_name": "Python 3 (ipykernel)",
   "language": "python",
   "name": "python3"
  },
  "language_info": {
   "codemirror_mode": {
    "name": "ipython",
    "version": 3
   },
   "file_extension": ".py",
   "mimetype": "text/x-python",
   "name": "python",
   "nbconvert_exporter": "python",
   "pygments_lexer": "ipython3",
   "version": "3.10.9"
  },
  "varInspector": {
   "cols": {
    "lenName": 16,
    "lenType": 16,
    "lenVar": 40
   },
   "kernels_config": {
    "python": {
     "delete_cmd_postfix": "",
     "delete_cmd_prefix": "del ",
     "library": "var_list.py",
     "varRefreshCmd": "print(var_dic_list())"
    },
    "r": {
     "delete_cmd_postfix": ") ",
     "delete_cmd_prefix": "rm(",
     "library": "var_list.r",
     "varRefreshCmd": "cat(var_dic_list()) "
    }
   },
   "types_to_exclude": [
    "module",
    "function",
    "builtin_function_or_method",
    "instance",
    "_Feature"
   ],
   "window_display": false
  }
 },
 "nbformat": 4,
 "nbformat_minor": 5
}
